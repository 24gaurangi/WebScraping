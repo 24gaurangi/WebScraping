{
 "cells": [
  {
   "cell_type": "code",
   "execution_count": 1,
   "metadata": {},
   "outputs": [],
   "source": [
    "import requests\n",
    "from bs4 import BeautifulSoup\n",
    "import time, collections, re\n",
    "import pandas as pd #dataframe for storing final data\n",
    "import matplotlib.pyplot as plt #plotting histogram of data\n"
   ]
  },
  {
   "cell_type": "code",
   "execution_count": 6,
   "metadata": {},
   "outputs": [],
   "source": [
    "# Scraping raw data from the website\n",
    "\n",
    "url = 'https://collegedunia.com/exams/cat/cutoff'\n",
    "source_code = requests.get(url)\n",
    "plain_txt = source_code.text\n",
    "soup_obj = BeautifulSoup(plain_txt, 'lxml')\n",
    "\n",
    "Cutoff_data = pd.DataFrame(columns=['Section', 'Cutoff', 'Institute', 'Date'])"
   ]
  },
  {
   "cell_type": "code",
   "execution_count": 7,
   "metadata": {},
   "outputs": [],
   "source": [
    "# Scraping the needed institutes from the page and converting to required format \n",
    "\n",
    "ins_names = [s.get_text().replace('\\xa0',' ') for s in soup_obj.find_all('h3', {'class':''})][6:20]\n",
    "ins_names = [' '.join(s.split(' ')[:2]) for s in ins_names]\n",
    "\n",
    "# Retrieving the needed tables from the page\n",
    "\n",
    "tables = [s for s in soup_obj.find_all('table')][5:19]"
   ]
  },
  {
   "cell_type": "code",
   "execution_count": 10,
   "metadata": {},
   "outputs": [],
   "source": [
    " # Retrieving the needed information from all the above tables \n",
    "    \n",
    "for t in range(len(tables)):\n",
    "    headers = ['Section', 'Cutoff'] +[s.get_text() for s in tables[t].find_all('th')][2:]\n",
    "    row_data = [s.get_text() for s in tables[t].find_all('td')]\n",
    "\n",
    "    h_len, r_len =len(headers), len(row_data)\n",
    "    \n",
    "    table = collections.OrderedDict()\n",
    "\n",
    "    for i in range(r_len):\n",
    "        table.setdefault(headers[i%h_len],[]).append(row_data[i])\n",
    "\n",
    "    table_data = collections.OrderedDict({k: table[k] for k in list(table)[:2]})\n",
    "    df = pd.DataFrame(data=table_data)\n",
    "\n",
    "    # to add date of scraping and institute name \n",
    "    date = []\n",
    "    institute = []\n",
    "    current_date = time.strftime(\"%d/%m/%Y\")\n",
    "\n",
    "    for i in range(r_len//h_len):\n",
    "        date.append(current_date)\n",
    "        institute.append(ins_names[t])\n",
    "\n",
    "    df = df.assign(Institute=institute)\n",
    "    df=df.assign(Date=date)\n",
    "    \n",
    "    # Resetting null entries to 0\n",
    "    df.Cutoff = df.Cutoff.replace(u'-', u'0')\n",
    "\n",
    "    # Writing clean data to dataFrame \n",
    "    for i in range(len(df)):\n",
    "        if df.iloc[i,0] == 'Overall Percentile':\n",
    "            Cutoff_data = Cutoff_data.append(df.iloc[i,:], ignore_index=True)\n",
    "           "
   ]
  },
  {
   "cell_type": "code",
   "execution_count": 11,
   "metadata": {},
   "outputs": [],
   "source": [
    "# Exporting data-frame to a csv and .txt file\n",
    "\n",
    "with open('Cutoff_data.txt', 'w') as f:\n",
    "    Cutoff_data.to_string(f)\n",
    "\n",
    "Cutoff_data.to_csv('IIM_cutoffs_data_2017-18.csv')"
   ]
  },
  {
   "cell_type": "code",
   "execution_count": 12,
   "metadata": {},
   "outputs": [
    {
     "data": {
      "image/png": "[encoded data removed]",
      "text/plain": [
       "<matplotlib.figure.Figure at 0x7fe9b57cd898>"
      ]
     },
     "metadata": {},
     "output_type": "display_data"
    }
   ],
   "source": [
    "# Plotting histogram from dataFrame\n",
    "\n",
    "Cutoff_data['Cutoff'] = (Cutoff_data['Cutoff']).astype(int)\n",
    "plot = Cutoff_data.plot(x='Institute', y='Cutoff', kind='bar', color='skyblue')\n",
    "fig=plot.get_figure()\n",
    "\n",
    "# Labeling the histogram\n",
    "plt.xlabel(\"Institute\")\n",
    "plt.ylabel(\"Cut-off\")\n",
    "plt.title(\"Histogram of cut-offs for IIM institutes for year 2017-18\")\n",
    "\n",
    "plt.tight_layout()\n",
    "\n",
    "# saving the resultant histogram as an image\n",
    "fig.savefig('Cutoff_Histogram_visualization.png')\n",
    "\n",
    "plt.show()"
   ]
  }
 ],
 "metadata": {
  "kernelspec": {
   "display_name": "Python 3.6",
   "language": "python",
   "name": "python36"
  },
  "language_info": {
   "codemirror_mode": {
    "name": "ipython",
    "version": 3
   },
   "file_extension": ".py",
   "mimetype": "text/x-python",
   "name": "python",
   "nbconvert_exporter": "python",
   "pygments_lexer": "ipython3",
   "version": "3.6.3"
  }
 },
 "nbformat": 4,
 "nbformat_minor": 2
}
